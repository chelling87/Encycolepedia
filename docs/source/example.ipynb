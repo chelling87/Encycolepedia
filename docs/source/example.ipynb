{
 "cells": [
  {
   "cell_type": "code",
   "execution_count": 10,
   "id": "1362c277-eb4f-4310-a9bb-85ca05a9bb21",
   "metadata": {},
   "outputs": [],
   "source": [
    "class Module():\n",
    "  '''\n",
    "  Strip Module Class - all the fixin's\n",
    "  '''\n",
    "\n",
    "  def __init__(self, module_sn):\n",
    "    '''\n",
    "    Module Initialization\n",
    "\n",
    "    :param module_sn: Module Serial Number\n",
    "    :type module_sn: str\n",
    "    '''\n",
    "\n",
    "    Module.sn          = module_sn\n",
    "    Module.type        = None\n",
    "    Module.FMC_channel = None\n",
    "\n",
    "  def SetModuleType(self, module_sn):\n",
    "    '''\n",
    "    Set Module Type\n",
    "\n",
    "    :param module_sn: Module Serial Number\n",
    "    :type module_sn: str\n",
    "    :return: The module type\n",
    "    :rtype: str\n",
    "    '''\n",
    "\n",
    "    return 'R1'"
   ]
  },
  {
   "cell_type": "code",
   "execution_count": 11,
   "id": "ccc2c773-2c1f-4cd9-9233-2c35702a86e3",
   "metadata": {},
   "outputs": [
    {
     "name": "stdin",
     "output_type": "stream",
     "text": [
      " 20USEM10000025\n"
     ]
    }
   ],
   "source": [
    "module_serial = \"20USEM00000000\"\n",
    "# Enter your Module SN here\n",
    "module_serial = input()"
   ]
  },
  {
   "cell_type": "code",
   "execution_count": 8,
   "id": "e1cb9d54-3aab-4a31-b6ea-8ea3104722b3",
   "metadata": {},
   "outputs": [],
   "source": [
    "module = Module('20USEM10000069')\n",
    "module.type = module.SetModuleType(module.sn)"
   ]
  }
 ],
 "metadata": {
  "kernelspec": {
   "display_name": "Python 3 (ipykernel)",
   "language": "python",
   "name": "python3"
  },
  "language_info": {
   "codemirror_mode": {
    "name": "ipython",
    "version": 3
   },
   "file_extension": ".py",
   "mimetype": "text/x-python",
   "name": "python",
   "nbconvert_exporter": "python",
   "pygments_lexer": "ipython3",
   "version": "3.10.12"
  }
 },
 "nbformat": 4,
 "nbformat_minor": 5
}
